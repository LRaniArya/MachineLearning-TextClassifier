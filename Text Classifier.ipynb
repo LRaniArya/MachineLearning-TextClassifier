{
 "cells": [
  {
   "cell_type": "code",
   "execution_count": null,
   "metadata": {},
   "outputs": [],
   "source": [
    "import pandas as pd\n",
    "import numpy as np\n",
    "import re\n",
    "from expense_data.models import Expense_Data\n",
    "from expense_category.models import Expense_Category\n",
    "import nltk\n",
    "from nltk.corpus import stopwords\n",
    "from nltk.stem import SnowballStemmer\n",
    "from sklearn.model_selection import train_test_split \n",
    "from sklearn.feature_extraction.text import TfidfVectorizer \n",
    "from sklearn.svm import LinearSVC \n",
    "from sklearn.pipeline import Pipeline \n",
    "from sklearn.feature_selection import SelectKBest, chi2 \n",
    "\n",
    "from sklearn.metrics import confusion_matrix, accuracy_score, classification_report\n",
    "from sklearn.linear_model import LinearRegression"
   ]
  },
  {
   "cell_type": "code",
   "execution_count": null,
   "metadata": {},
   "outputs": [],
   "source": [
    "expense_Data = pd.DataFrame(list(Expense_Data.objects.all().values())) \n",
    "    \n",
    "# Printing the dataswet shape \n",
    "print (\"Dataset Length: \", len(expense_Data)) \n",
    "print (\"Dataset Shape: \", expense_Data.shape) \n",
    "\n",
    "# Printing the dataset obseravtions \n",
    "print (\"Dataset: \",expense_Data.head())"
   ]
  },
  {
   "cell_type": "code",
   "execution_count": null,
   "metadata": {},
   "outputs": [],
   "source": [
    "nltk.download('stopwords')\n",
    "stemmer= SnowballStemmer('english')\n",
    "words = stopwords.words('english')\n",
    "expense_Data['cleaned'] = expense_Data['Description'].apply(lambda x: \" \".join([stemmer.stem(i) for i in re.sub(\"[^a-zA-Z]\", \" \",x).replace('Debit Card Purchase','').split() if i not in words]).lower())\n"
   ]
  },
  {
   "cell_type": "code",
   "execution_count": null,
   "metadata": {},
   "outputs": [],
   "source": [
    "is_NotNoneType =np.logical_not(np.logical_or(expense_Data['ExpenseType_id']==2,expense_Data['ExpenseType_id'] == 1))\n",
    "new_data = expense_Data[is_NotNoneType]\n",
    "# Seperating the target variable \n",
    "X = new_data['cleaned']\n",
    "Y = new_data['ExpenseType_id'] \n",
    "\n",
    "# Spliting the dataset into train and test 2\n",
    "X_train, X_test, y_train, y_test = train_test_split(  \n",
    "X, Y, test_size = 0.3, random_state = 1) "
   ]
  },
  {
   "cell_type": "code",
   "execution_count": null,
   "metadata": {},
   "outputs": [],
   "source": [
    "pipeline = Pipeline([('vect', TfidfVectorizer(ngram_range=(1,2), stop_words = 'english', sublinear_tf = True)),\n",
    "                    ('chi', SelectKBest(chi2, k='all')),\n",
    "                    ('clf', LinearSVC(C=1.0, penalty='l1',max_iter=300,dual=False))])\n",
    "# Creating the classifier object \n",
    "model = pipeline.fit(X_train, y_train)"
   ]
  },
  {
   "cell_type": "code",
   "execution_count": null,
   "metadata": {},
   "outputs": [],
   "source": [
    "y_pred = clf_object.predict(X_test) "
   ]
  },
  {
   "cell_type": "code",
   "execution_count": null,
   "metadata": {},
   "outputs": [],
   "source": [
    "print(\"Confusion Matrix: \", confusion_matrix(y_test, y_pred)) \n",
    "\n",
    "print (\"Accuracy : \", accuracy_score(y_test,y_pred)*100) \n",
    "\n",
    "print(\"Report : \", classification_report(y_test, y_pred)) "
   ]
  },
  {
   "cell_type": "code",
   "execution_count": null,
   "metadata": {},
   "outputs": [],
   "source": [
    "is_NoneType =np.logical_or(expense_Data['ExpenseType_id']==2,expense_Data['ExpenseType_id'] == 1)\n",
    "data_NoneType =  expense_Data[is_NoneType]\n",
    "y_pred_New = model.predict(data_NoneType['cleaned']) \n",
    "data['ExpenseType_id'] = y_pred_New"
   ]
  }
 ],
 "metadata": {
  "kernelspec": {
   "display_name": "Python 3",
   "language": "python",
   "name": "python3"
  },
  "language_info": {
   "codemirror_mode": {
    "name": "ipython",
    "version": 3
   },
   "file_extension": ".py",
   "mimetype": "text/x-python",
   "name": "python",
   "nbconvert_exporter": "python",
   "pygments_lexer": "ipython3",
   "version": "3.7.2"
  }
 },
 "nbformat": 4,
 "nbformat_minor": 2
}
